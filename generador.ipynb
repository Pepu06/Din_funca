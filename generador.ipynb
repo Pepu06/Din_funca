{
 "cells": [
  {
   "cell_type": "code",
   "execution_count": 2,
   "metadata": {},
   "outputs": [
    {
     "name": "stderr",
     "output_type": "stream",
     "text": [
      "C:\\Users\\Mavi\\AppData\\Local\\Packages\\PythonSoftwareFoundation.Python.3.11_qbz5n2kfra8p0\\LocalCache\\local-packages\\Python311\\site-packages\\tqdm\\auto.py:21: TqdmWarning: IProgress not found. Please update jupyter and ipywidgets. See https://ipywidgets.readthedocs.io/en/stable/user_install.html\n",
      "  from .autonotebook import tqdm as notebook_tqdm\n"
     ]
    }
   ],
   "source": [
    "# Load model directly from transformers\n",
    "from transformers import AutoTokenizer, AutoModelForCausalLM"
   ]
  },
  {
   "cell_type": "code",
   "execution_count": 7,
   "metadata": {},
   "outputs": [],
   "source": [
    "tokenizer = AutoTokenizer.from_pretrained(\"datificate/gpt2-small-spanish\")\n",
    "model = AutoModelForCausalLM.from_pretrained(\"datificate/gpt2-small-spanish\")\n"
   ]
  },
  {
   "cell_type": "code",
   "execution_count": 8,
   "metadata": {},
   "outputs": [],
   "source": [
    "# Función para autocompletar texto y generar múltiples opciones\n",
    "def autocomplete_text(prompt_text, num_responses=3, max_length=100, temperature=0.7, top_k=50):\n",
    "    # Codificar el texto de entrada en tensores\n",
    "    input_ids = tokenizer.encode(prompt_text, return_tensors=\"pt\").to(model.device)\n",
    "\n",
    "    # Generar múltiples textos con el modelo\n",
    "    outputs = model.generate(\n",
    "        input_ids=input_ids.to(model.device),\n",
    "        max_length=max_length,\n",
    "        temperature=temperature,\n",
    "        top_k=top_k,\n",
    "        pad_token_id=tokenizer.eos_token_id,\n",
    "        num_return_sequences=num_responses,\n",
    "        do_sample=True,  # Usar búsqueda estocástica\n",
    "    )\n",
    "\n",
    "    # Decodificar los textos generados y asegurar que no excedan la longitud máxima\n",
    "    completed_texts = []\n",
    "    for output in outputs:\n",
    "        decoded_text = tokenizer.decode(output, skip_special_tokens=True)\n",
    "        # Limitar la longitud del texto generado\n",
    "        completed_texts.append(decoded_text[:max_length])\n",
    "\n",
    "    return completed_texts"
   ]
  },
  {
   "cell_type": "code",
   "execution_count": 9,
   "metadata": {},
   "outputs": [
    {
     "name": "stdout",
     "output_type": "stream",
     "text": [
      "Mi nombre es Pedro\n",
      "Opción 1: Mi nombre es Pedro.\n",
      "Padre, por favor.\n",
      "No.\n",
      "No.\n",
      "No tienes que hacer esto.\n",
      "Tú eres mi padre.\n",
      "No, no, no\n",
      "Opción 2: Mi nombre es Pedro Rodríguez.\n",
      "Soy un trabajador en un almacén.\n",
      "Yo...\n",
      "Voy a ayudarte.\n",
      "Por favor, no..\n",
      "Opción 3: Mi nombre es Pedro. Tengo 27 años y vivo en Medellín, Antioquia. Soy músico y tengo una familia. El \n"
     ]
    },
    {
     "ename": "ValueError",
     "evalue": "invalid literal for int() with base 10: ''",
     "output_type": "error",
     "traceback": [
      "\u001b[1;31m---------------------------------------------------------------------------\u001b[0m",
      "\u001b[1;31mValueError\u001b[0m                                Traceback (most recent call last)",
      "Cell \u001b[1;32mIn[9], line 11\u001b[0m\n\u001b[0;32m      8\u001b[0m     \u001b[38;5;28mprint\u001b[39m(\u001b[38;5;124mf\u001b[39m\u001b[38;5;124m\"\u001b[39m\u001b[38;5;124mOpción \u001b[39m\u001b[38;5;132;01m{\u001b[39;00mi\u001b[38;5;132;01m}\u001b[39;00m\u001b[38;5;124m: \u001b[39m\u001b[38;5;132;01m{\u001b[39;00mresponse\u001b[38;5;132;01m}\u001b[39;00m\u001b[38;5;124m\"\u001b[39m)\n\u001b[0;32m     10\u001b[0m \u001b[38;5;66;03m# Pedir al usuario que elija una opción\u001b[39;00m\n\u001b[1;32m---> 11\u001b[0m chosen_option \u001b[38;5;241m=\u001b[39m \u001b[38;5;28;43mint\u001b[39;49m\u001b[43m(\u001b[49m\u001b[38;5;28;43minput\u001b[39;49m\u001b[43m(\u001b[49m\u001b[38;5;124;43m\"\u001b[39;49m\u001b[38;5;124;43mElige una opción (1-3): \u001b[39;49m\u001b[38;5;124;43m\"\u001b[39;49m\u001b[43m)\u001b[49m\u001b[43m)\u001b[49m \u001b[38;5;241m-\u001b[39m \u001b[38;5;241m1\u001b[39m\n\u001b[0;32m     13\u001b[0m \u001b[38;5;66;03m# Mostrar la respuesta elegida\u001b[39;00m\n\u001b[0;32m     14\u001b[0m \u001b[38;5;28;01mif\u001b[39;00m \u001b[38;5;241m0\u001b[39m \u001b[38;5;241m<\u001b[39m\u001b[38;5;241m=\u001b[39m chosen_option \u001b[38;5;241m<\u001b[39m \u001b[38;5;28mlen\u001b[39m(response_options):\n",
      "\u001b[1;31mValueError\u001b[0m: invalid literal for int() with base 10: ''"
     ]
    }
   ],
   "source": [
    "# Ejemplo de uso\n",
    "prompt = input(\"Empieza escribiendo algo... \")\n",
    "print(prompt)\n",
    "response_options = autocomplete_text(prompt, num_responses=3, max_length=100)\n",
    "\n",
    "# Imprimir las opciones de respuesta\n",
    "for i, response in enumerate(response_options, 1):\n",
    "    print(f\"Opción {i}: {response}\")\n",
    "\n",
    "# Pedir al usuario que elija una opción\n",
    "chosen_option = int(input(\"Elige una opción (1-3): \")) - 1\n",
    "\n",
    "# Mostrar la respuesta elegida\n",
    "if 0 <= chosen_option < len(response_options):\n",
    "    print(\"Texto completado:\", response_options[chosen_option])\n",
    "else:\n",
    "    print(\"Opción inválida.\")"
   ]
  }
 ],
 "metadata": {
  "kernelspec": {
   "display_name": "Python 3",
   "language": "python",
   "name": "python3"
  },
  "language_info": {
   "codemirror_mode": {
    "name": "ipython",
    "version": 3
   },
   "file_extension": ".py",
   "mimetype": "text/x-python",
   "name": "python",
   "nbconvert_exporter": "python",
   "pygments_lexer": "ipython3",
   "version": "3.11.9"
  }
 },
 "nbformat": 4,
 "nbformat_minor": 2
}
